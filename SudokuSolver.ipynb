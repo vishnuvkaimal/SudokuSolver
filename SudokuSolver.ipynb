{
  "nbformat": 4,
  "nbformat_minor": 0,
  "metadata": {
    "colab": {
      "provenance": [],
      "collapsed_sections": [],
      "authorship_tag": "ABX9TyOugMzgW96UwnjqsndnfgJx"
    },
    "kernelspec": {
      "name": "python3",
      "display_name": "Python 3"
    },
    "language_info": {
      "name": "python"
    }
  },
  "cells": [
    {
      "cell_type": "code",
      "execution_count": null,
      "metadata": {
        "colab": {
          "base_uri": "https://localhost:8080/"
        },
        "id": "Kj9PUu60V_7Y",
        "outputId": "cbce11b7-1f36-4f48-d7bc-3f8ac5fd7be3"
      },
      "outputs": [
        {
          "output_type": "stream",
          "name": "stdout",
          "text": [
            "True\n",
            "[[3, 9, 1, 8, 5, 6, 4, 2, 7],\n",
            " [8, 6, 7, 2, 3, 4, 9, 1, 5],\n",
            " [4, 2, 5, 7, 1, 9, 6, 8, 3],\n",
            " [7, 5, 4, 9, 6, 8, 1, 3, 2],\n",
            " [2, 1, 6, 4, 7, 3, 5, 9, 8],\n",
            " [9, 3, 8, 5, 2, 1, 7, 6, 4],\n",
            " [5, 4, 3, 6, 9, 2, 8, 7, 1],\n",
            " [6, 7, 2, 1, 8, 5, 3, 4, 9],\n",
            " [1, 8, 9, 3, 4, 7, 2, 5, 6]]\n"
          ]
        }
      ],
      "source": [
        "from pprint import pprint\n",
        "\n",
        "\n",
        "def find_next_empty(puzzle):\n",
        "    # finds the next row, col on the puzzle that's not filled yet --> rep with -1\n",
        "    # return row, col tuple (or (None, None) if there is none)\n",
        "\n",
        "    # keep in mind that we are using 0-8 for our indices\n",
        "    for r in range(9):\n",
        "        for c in range(9): # range(9) is 0, 1, 2, ... 8\n",
        "            if puzzle[r][c] == -1:\n",
        "                return r, c\n",
        "\n",
        "    return None, None  # if no spaces in the puzzle are empty (-1)\n",
        "\n",
        "def is_valid(puzzle, guess, row, col):\n",
        "    # figures out whether the guess at the row/col of the puzzle is a valid guess\n",
        "    # returns True or False\n",
        "\n",
        "    # for a guess to be valid, then we need to follow the sudoku rules\n",
        "    # that number must not be repeated in the row, column, or 3x3 square that it appears in\n",
        "\n",
        "    # let's start with the row\n",
        "    row_vals = puzzle[row]\n",
        "    if guess in row_vals:\n",
        "        return False # if we've repeated, then our guess is not valid!\n",
        "\n",
        "    # now the column\n",
        "    # col_vals = []\n",
        "    # for i in range(9):\n",
        "    #     col_vals.append(puzzle[i][col])\n",
        "    col_vals = [puzzle[i][col] for i in range(9)]\n",
        "    if guess in col_vals:\n",
        "        return False\n",
        "\n",
        "    # and then the square\n",
        "    row_start = (row // 3) * 3 # 10 // 3 = 3, 5 // 3 = 1, 1 // 3 = 0\n",
        "    col_start = (col // 3) * 3\n",
        "\n",
        "    for r in range(row_start, row_start + 3):\n",
        "        for c in range(col_start, col_start + 3):\n",
        "            if puzzle[r][c] == guess:\n",
        "                return False\n",
        "\n",
        "    return True\n",
        "\n",
        "def solve_sudoku(puzzle):\n",
        "    # solve sudoku using backtracking!\n",
        "    # our puzzle is a list of lists, where each inner list is a row in our sudoku puzzle\n",
        "    # return whether a solution exists\n",
        "    # mutates puzzle to be the solution (if solution exists)\n",
        "    \n",
        "    # step 1: choose somewhere on the puzzle to make a guess\n",
        "    row, col = find_next_empty(puzzle)\n",
        "\n",
        "    # step 1.1: if there's nowhere left, then we're done because we only allowed valid inputs\n",
        "    if row is None:  # this is true if our find_next_empty function returns None, None\n",
        "        return True \n",
        "    \n",
        "    # step 2: if there is a place to put a number, then make a guess between 1 and 9\n",
        "    for guess in range(1, 10): # range(1, 10) is 1, 2, 3, ... 9\n",
        "        # step 3: check if this is a valid guess\n",
        "        if is_valid(puzzle, guess, row, col):\n",
        "            # step 3.1: if this is a valid guess, then place it at that spot on the puzzle\n",
        "            puzzle[row][col] = guess\n",
        "            # step 4: then we recursively call our solver!\n",
        "            if solve_sudoku(puzzle):\n",
        "                return True\n",
        "        \n",
        "        # step 5: it not valid or if nothing gets returned true, then we need to backtrack and try a new number\n",
        "        puzzle[row][col] = -1\n",
        "\n",
        "    # step 6: if none of the numbers that we try work, then this puzzle is UNSOLVABLE!!\n",
        "    return False\n",
        "\n",
        "if __name__ == '__main__':\n",
        "    example_board = [\n",
        "        [3, 9, -1,   -1, 5, -1,   -1, -1, -1],\n",
        "        [-1, -1, -1,   2, -1, -1,   -1, -1, 5],\n",
        "        [-1, -1, -1,   7, 1, 9,   -1, 8, -1],\n",
        "\n",
        "        [-1, 5, -1,   -1, 6, 8,   -1, -1, -1],\n",
        "        [2, -1, 6,   -1, -1, 3,   -1, -1, -1],\n",
        "        [-1, -1, -1,   -1, -1, -1,   -1, -1, 4],\n",
        "\n",
        "        [5, -1, -1,   -1, -1, -1,   -1, -1, -1],\n",
        "        [6, 7, -1,   1, -1, 5,   -1, 4, -1],\n",
        "        [1, -1, 9,   -1, -1, -1,   2, -1, -1]\n",
        "    ]\n",
        "    print(solve_sudoku(example_board))\n",
        "    pprint(example_board)"
      ]
    },
    {
      "cell_type": "markdown",
      "source": [
        "Reference : https://www.youtube.com/watch?v=8ext9G7xspg&t=6715s\n",
        "\n",
        "---\n",
        "\n",
        "Added to give credit to the resource used to code this"
      ],
      "metadata": {
        "id": "gz2Nsm83WZJT"
      }
    }
  ]
}